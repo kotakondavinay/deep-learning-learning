{
 "cells": [
  {
   "cell_type": "code",
   "execution_count": 246,
   "id": "7ac17d38-ac4c-4c2c-89d0-caef30a23f26",
   "metadata": {},
   "outputs": [],
   "source": [
    "import torch\n",
    "import torch.nn.functional as F\n",
    "import matplotlib.pyplot as plt\n",
    "%matplotlib inline"
   ]
  },
  {
   "cell_type": "code",
   "execution_count": 2,
   "id": "88b3da2d-84da-4676-8e48-d9285ee1f886",
   "metadata": {},
   "outputs": [],
   "source": [
    "words = open('../names.txt', 'r').read().splitlines()"
   ]
  },
  {
   "cell_type": "code",
   "execution_count": 289,
   "id": "ef74f9bd-27a1-4d14-bb8a-e04932d0fa4d",
   "metadata": {},
   "outputs": [
    {
     "name": "stdout",
     "output_type": "stream",
     "text": [
      "{1: 'a', 2: 'b', 3: 'c', 4: 'd', 5: 'e', 6: 'f', 7: 'g', 8: 'h', 9: 'i', 10: 'j', 11: 'k', 12: 'l', 13: 'm', 14: 'n', 15: 'o', 16: 'p', 17: 'q', 18: 'r', 19: 's', 20: 't', 21: 'u', 22: 'v', 23: 'w', 24: 'x', 25: 'y', 26: 'z', 0: '.'}\n",
      "{'a': 1, 'b': 2, 'c': 3, 'd': 4, 'e': 5, 'f': 6, 'g': 7, 'h': 8, 'i': 9, 'j': 10, 'k': 11, 'l': 12, 'm': 13, 'n': 14, 'o': 15, 'p': 16, 'q': 17, 'r': 18, 's': 19, 't': 20, 'u': 21, 'v': 22, 'w': 23, 'x': 24, 'y': 25, 'z': 26, '.': 0}\n"
     ]
    }
   ],
   "source": [
    "chars = sorted(list(set(''.join(words))))\n",
    "\n",
    "chtoi = {ch:i+1 for i,ch in enumerate(chars)}\n",
    "chtoi['.'] = 0\n",
    "itoch = {i:ch for ch,i in chtoi.items()}\n",
    "print(itoch)\n",
    "print(chtoi)"
   ]
  },
  {
   "cell_type": "code",
   "execution_count": 76,
   "id": "4ae24939-ba1e-45d2-a7d7-e9763b0e67ad",
   "metadata": {},
   "outputs": [
    {
     "name": "stdout",
     "output_type": "stream",
     "text": [
      "tensor([[ 0,  0,  0],\n",
      "        [ 0,  0, 14],\n",
      "        [ 0, 14, 25],\n",
      "        [14, 25, 18],\n",
      "        [25, 18,  5],\n",
      "        [18,  5,  5],\n",
      "        [ 0,  0,  0],\n",
      "        [ 0,  0,  5],\n",
      "        [ 0,  5,  4],\n",
      "        [ 5,  4,  9],\n",
      "        [ 4,  9,  5]]) tensor([14, 25, 18,  5,  5,  0,  5,  4,  9,  5,  0])\n",
      "torch.Size([11, 3]) torch.int64 torch.Size([11]) torch.int64\n"
     ]
    }
   ],
   "source": [
    "# build input values.\n",
    "\n",
    "block_size = 3 # context length: how many characters do we take to predict the next one?\n",
    "X, Y = [], []\n",
    "for w in words[:2]:\n",
    "  \n",
    "  context = [0] * block_size\n",
    "  for ch in w + '.':\n",
    "    ix = chtoi[ch]\n",
    "    X.append(context)\n",
    "    Y.append(ix)\n",
    "    #print(''.join(itoch[i] for i in context), '--->', itoch[ix])\n",
    "    context = context[1:] + [ix] # crop and append\n",
    "  \n",
    "X = torch.tensor(X)\n",
    "Y = torch.tensor(Y)\n",
    "print(X, Y)\n",
    "print(X.shape, X.dtype, Y.shape, Y.dtype)\n"
   ]
  },
  {
   "cell_type": "code",
   "execution_count": 38,
   "id": "3fc0343f-7c83-47e0-a863-7e5303c02b46",
   "metadata": {},
   "outputs": [
    {
     "name": "stdout",
     "output_type": "stream",
     "text": [
      "torch.Size([182424, 3]) torch.Size([22836, 3]) torch.Size([22886, 3])\n"
     ]
    }
   ],
   "source": [
    "def build_dataset(words):\n",
    "    X = []\n",
    "    Y = []\n",
    "    for w in words:\n",
    "        context = [0] * block_size\n",
    "        for ch in w + '.':\n",
    "            ix = chtoi[ch]\n",
    "            X.append(context)\n",
    "            Y.append(ix)\n",
    "            context = context[1:] + [ix] # crop and append\n",
    "    return torch.tensor(X), torch.tensor(Y)\n",
    "    \n",
    "\n",
    "# build training set, dev set, test set. - 80%, 10%, 10% each\n",
    "import random\n",
    "random.seed(42) #seed\n",
    "random.shuffle(words) #shuffle to get random values and no bias.\n",
    "n = len(words)\n",
    "n1 = int(0.8 * n)\n",
    "n2 = int(0.9 * n)\n",
    "\n",
    "Xtr, Ytr = build_dataset(words[:n1])\n",
    "Xdev, Ydev = build_dataset(words[n1:n2])\n",
    "Xtest, Ytest = build_dataset(words[n2:])\n",
    "print(Xtr.shape, Xdev.shape, Xtest.shape)"
   ]
  },
  {
   "cell_type": "code",
   "execution_count": 45,
   "id": "e5202a1d-c691-4f05-9c74-e3b9d51f93d9",
   "metadata": {},
   "outputs": [
    {
     "data": {
      "text/plain": [
       "(torch.Size([27, 2]), torch.Size([67, 3]))"
      ]
     },
     "execution_count": 45,
     "metadata": {},
     "output_type": "execute_result"
    }
   ],
   "source": [
    "C = torch.randn((27, 2)) # mapping input values in 2 dimensions. Bengio paper maps 17000 words into 30 dimensions.\n",
    "# try maping to 3 or more dimensions and test.\n",
    "C.shape, X.shape"
   ]
  },
  {
   "cell_type": "code",
   "execution_count": 56,
   "id": "f5088730-24ca-4f08-a2c4-9dc580434f1c",
   "metadata": {},
   "outputs": [
    {
     "name": "stdout",
     "output_type": "stream",
     "text": [
      "tensor([0.7499, 0.3564])\n",
      "15\n",
      "tensor([-1.2245,  0.0621]) tensor([-1.2245,  0.0621])\n"
     ]
    }
   ],
   "source": [
    "C[X].shape # Embedding X into C.\n",
    "# this represents\n",
    "\n",
    "print(C[5]) # 5th item in C\n",
    "F.one_hot(torch.tensor(5), num_classes=27).float() @ C # 5th item bit is on and is multiplied by c, we will get the same as C[5]\n",
    "\n",
    "print(X[13, 2].item())\n",
    "print(C[X][13, 2], C[15]) # both values are same\n"
   ]
  },
  {
   "cell_type": "code",
   "execution_count": 99,
   "id": "212e1511-8c97-4dfc-882c-d3c72509827c",
   "metadata": {},
   "outputs": [
    {
     "name": "stdout",
     "output_type": "stream",
     "text": [
      "[[1, 2, 3, 4, 5, 6], [7, 8, 9, 10, 11, 12]]\n",
      "(tensor([[1, 2],\n",
      "        [7, 8]]), tensor([[ 3,  4],\n",
      "        [ 9, 10]]), tensor([[ 5,  6],\n",
      "        [11, 12]]))\n",
      "tensor([[ 1,  2],\n",
      "        [ 7,  8],\n",
      "        [ 3,  4],\n",
      "        [ 9, 10],\n",
      "        [ 5,  6],\n",
      "        [11, 12]])\n",
      "tensor([[ 1,  2,  3,  4,  5,  6],\n",
      "        [ 7,  8,  9, 10, 11, 12]])\n",
      "torch.Size([11, 3, 2])\n",
      "tensor([[ 0.0715,  0.5508,  0.0715,  0.5508,  0.0715,  0.5508],\n",
      "        [ 0.0715,  0.5508,  0.0715,  0.5508,  0.6123, -0.1099],\n",
      "        [ 0.0715,  0.5508,  0.6123, -0.1099,  0.3652,  0.4494],\n",
      "        [ 0.6123, -0.1099,  0.3652,  0.4494, -1.2600, -1.2229],\n",
      "        [ 0.3652,  0.4494, -1.2600, -1.2229,  0.7499,  0.3564],\n",
      "        [-1.2600, -1.2229,  0.7499,  0.3564,  0.7499,  0.3564],\n",
      "        [ 0.0715,  0.5508,  0.0715,  0.5508,  0.0715,  0.5508],\n",
      "        [ 0.0715,  0.5508,  0.0715,  0.5508,  0.7499,  0.3564],\n",
      "        [ 0.0715,  0.5508,  0.7499,  0.3564, -0.7617,  1.3623],\n",
      "        [ 0.7499,  0.3564, -0.7617,  1.3623, -0.4534, -1.0895],\n",
      "        [-0.7617,  1.3623, -0.4534, -1.0895,  0.7499,  0.3564]])\n",
      "tensor([[ 0.0715,  0.5508,  0.0715,  0.5508,  0.0715,  0.5508],\n",
      "        [ 0.0715,  0.5508,  0.0715,  0.5508,  0.6123, -0.1099],\n",
      "        [ 0.0715,  0.5508,  0.6123, -0.1099,  0.3652,  0.4494],\n",
      "        [ 0.6123, -0.1099,  0.3652,  0.4494, -1.2600, -1.2229],\n",
      "        [ 0.3652,  0.4494, -1.2600, -1.2229,  0.7499,  0.3564],\n",
      "        [-1.2600, -1.2229,  0.7499,  0.3564,  0.7499,  0.3564],\n",
      "        [ 0.0715,  0.5508,  0.0715,  0.5508,  0.0715,  0.5508],\n",
      "        [ 0.0715,  0.5508,  0.0715,  0.5508,  0.7499,  0.3564],\n",
      "        [ 0.0715,  0.5508,  0.7499,  0.3564, -0.7617,  1.3623],\n",
      "        [ 0.7499,  0.3564, -0.7617,  1.3623, -0.4534, -1.0895],\n",
      "        [-0.7617,  1.3623, -0.4534, -1.0895,  0.7499,  0.3564]])\n"
     ]
    }
   ],
   "source": [
    "#C[X] = [ [[x10, x20], [x11, x21], [x12, x22]] ...] 67 rows containing 3 columns containing 2 values. these values are repititive based on labels.\n",
    "# if you change the C dimension here that C[X] will change accordingly.\n",
    "# next layer neurons will take 3x2 values as input work accordingly.\n",
    "# To scale things, we are going flatten the 3x2 values as flat 6 values but keep the indices intact.\n",
    "#Why do we need this? - This is to solve any orbitary dimension input values as list, so that neurons layer code is scalable.\n",
    "# we can still pass 2x3 values as input to next layer but we will have to work and write code which is much more complex.\n",
    "# How do we flatten these values? In normal code,\n",
    "example = [ [ [1, 2], [3, 4], [5, 6] ],\n",
    "            [ [7, 8], [9, 10], [11, 12] ],\n",
    "          ]\n",
    "allrows = []\n",
    "for characters in example:\n",
    "    flattenembedding = []\n",
    "    for embeddings in characters:\n",
    "        for embedding in embeddings:\n",
    "            flattenembedding.append(embedding)\n",
    "    allrows.append(flattenembedding)\n",
    "print(allrows)\n",
    "\n",
    "# Is there a way to do it in pytorch?\n",
    "\n",
    "# we can try using torch functions the same way.\n",
    "torchex = torch.tensor(example)\n",
    "print(torch.unbind(torchex, 1))\n",
    "print(torch.cat(torch.unbind(torchex, 1))) # this is one way to do in pytorch the same as we did in the above code but it creates new instance, requires more memory.\n",
    "print(torchex.view(2, 6)) # this is the efficient way to do it.\n",
    "\n",
    "# try with our input.\n",
    "emb = C[X]\n",
    "print(emb.shape)\n",
    "#emb[:, 0, :]\n",
    "torch.cat([emb[:, 0, :], emb[:, 1, :], emb[:, 2, :]], 1) # this is same as \n",
    "print(torch.cat(torch.unbind(emb, 1), 1))\n",
    "print(emb.view(11, 6))"
   ]
  },
  {
   "cell_type": "code",
   "execution_count": 136,
   "id": "8cde758d-7bf2-4b49-9353-cff443c581cc",
   "metadata": {},
   "outputs": [],
   "source": [
    "# we have 2 embeddings and 3 of them for each input. so the next layer should take 6 values as input.\n",
    "emb = C[X]\n",
    "W = torch.randn(6, 100) # 100 neurons\n",
    "b = torch.randn(100) # 100 neuron biases.\n",
    "h1 = emb.view(emb.shape[0], 6) @ W + b\n",
    "h2 = emb.view(-1, 6) @ W + b # pytorch will infer this value\n",
    "\n",
    "h = torch.tanh(emb.view (-1, 6) @ W + b)\n",
    "h.shape\n",
    "\n",
    "W2 = torch.randn(100, 27)\n",
    "b2 = torch.randn(27)\n",
    "\n",
    "logits = h @ W2 + b2"
   ]
  },
  {
   "cell_type": "code",
   "execution_count": 142,
   "id": "e3958091-3a57-41d7-af8f-6f6d6a5b4aab",
   "metadata": {},
   "outputs": [
    {
     "name": "stdout",
     "output_type": "stream",
     "text": [
      "tensor([[6.4331e-08, 1.0612e-05, 6.1910e-02, 6.2168e-08, 3.7669e-12, 2.1499e-05,\n",
      "         8.4913e-01, 4.5372e-05, 2.5787e-07, 3.3424e-09, 1.8407e-07, 3.2267e-07,\n",
      "         2.3247e-06, 3.0867e-10, 4.2198e-10, 6.6296e-08, 2.2400e-05, 1.9782e-08,\n",
      "         1.8559e-04, 8.9540e-11, 4.3236e-09, 3.2114e-04, 2.5693e-02, 6.2655e-02,\n",
      "         6.0844e-07, 4.4409e-11, 3.1391e-08],\n",
      "        [2.8683e-13, 4.7890e-08, 7.2447e-05, 1.7255e-11, 1.1583e-10, 6.1642e-10,\n",
      "         9.9991e-01, 2.0739e-09, 1.1278e-09, 1.3817e-11, 5.6296e-08, 1.4794e-08,\n",
      "         6.8889e-08, 1.3790e-12, 2.4714e-12, 1.1036e-11, 4.2884e-11, 1.7643e-10,\n",
      "         1.0202e-06, 5.5486e-11, 4.9532e-12, 5.5174e-07, 1.4967e-05, 9.4978e-08,\n",
      "         1.3893e-09, 8.7464e-14, 7.2014e-12],\n",
      "        [1.1590e-09, 1.6072e-07, 3.0674e-04, 1.1320e-09, 3.2366e-11, 7.7514e-09,\n",
      "         1.0582e-03, 4.1932e-09, 9.6594e-09, 1.3313e-07, 9.3541e-08, 4.3722e-08,\n",
      "         1.3703e-12, 5.9384e-15, 7.1076e-13, 4.0916e-08, 1.5743e-07, 4.3158e-10,\n",
      "         1.8722e-04, 4.0327e-12, 2.5481e-07, 3.6290e-10, 9.9843e-01, 1.2905e-05,\n",
      "         1.2136e-06, 1.0688e-11, 1.8505e-08],\n",
      "        [9.3654e-04, 1.4855e-05, 8.3160e-01, 1.3428e-01, 5.9064e-08, 1.4951e-06,\n",
      "         2.3740e-03, 1.6021e-06, 1.6168e-04, 8.8925e-06, 9.0389e-05, 3.1354e-06,\n",
      "         2.3352e-09, 5.3742e-11, 1.3364e-11, 1.4383e-06, 6.4320e-07, 3.8589e-10,\n",
      "         1.4476e-04, 2.3216e-05, 2.3448e-02, 5.4384e-04, 6.7770e-09, 2.7665e-05,\n",
      "         9.3556e-08, 1.6880e-08, 6.3456e-03],\n",
      "        [1.5625e-17, 2.4275e-14, 7.7521e-11, 7.9661e-07, 2.2753e-10, 2.4367e-06,\n",
      "         3.5241e-10, 9.9820e-01, 2.3694e-14, 4.8727e-10, 1.1958e-04, 3.7363e-16,\n",
      "         3.9868e-11, 6.8800e-17, 2.2922e-07, 2.7099e-10, 4.5674e-08, 1.0393e-09,\n",
      "         9.5258e-07, 7.6660e-07, 5.3361e-06, 2.0816e-06, 1.3045e-06, 5.3427e-13,\n",
      "         1.6694e-03, 6.6871e-11, 6.2942e-13],\n",
      "        [1.6622e-14, 1.3679e-09, 6.7378e-07, 6.0964e-05, 1.1973e-02, 4.5599e-04,\n",
      "         9.7475e-03, 5.1783e-06, 3.8372e-05, 2.9688e-03, 3.5803e-05, 9.3374e-06,\n",
      "         2.1570e-04, 1.6206e-02, 1.5515e-08, 1.1379e-06, 8.1513e-06, 1.3868e-06,\n",
      "         1.3090e-06, 8.5097e-01, 5.4291e-06, 1.1558e-08, 3.6473e-04, 2.8756e-02,\n",
      "         7.7773e-02, 1.4940e-06, 3.9775e-04],\n",
      "        [6.4331e-08, 1.0612e-05, 6.1910e-02, 6.2168e-08, 3.7669e-12, 2.1499e-05,\n",
      "         8.4913e-01, 4.5372e-05, 2.5787e-07, 3.3424e-09, 1.8407e-07, 3.2267e-07,\n",
      "         2.3247e-06, 3.0867e-10, 4.2198e-10, 6.6296e-08, 2.2400e-05, 1.9782e-08,\n",
      "         1.8559e-04, 8.9540e-11, 4.3236e-09, 3.2114e-04, 2.5693e-02, 6.2655e-02,\n",
      "         6.0844e-07, 4.4409e-11, 3.1391e-08],\n",
      "        [4.5483e-13, 7.7191e-08, 2.2434e-04, 1.8700e-11, 3.9722e-11, 2.5195e-08,\n",
      "         9.9975e-01, 3.4038e-08, 1.3384e-09, 5.5918e-12, 2.4265e-07, 2.9597e-08,\n",
      "         5.9679e-08, 7.5311e-11, 1.1607e-11, 3.3238e-11, 7.8360e-10, 1.0237e-08,\n",
      "         3.5525e-06, 2.7754e-12, 1.7555e-11, 1.7533e-06, 1.9996e-05, 9.4094e-07,\n",
      "         1.4234e-08, 7.8724e-13, 1.8468e-12],\n",
      "        [6.1327e-03, 1.9545e-05, 5.2711e-03, 2.1955e-07, 7.7131e-15, 9.6003e-07,\n",
      "         2.4301e-02, 1.5987e-09, 8.9491e-05, 1.0958e-06, 1.7577e-11, 1.3901e-04,\n",
      "         9.3620e-11, 1.9193e-09, 4.7661e-11, 1.5226e-06, 3.8941e-05, 2.2377e-09,\n",
      "         1.0789e-05, 9.1377e-14, 2.6331e-11, 8.1195e-09, 9.6314e-01, 8.4926e-04,\n",
      "         1.9366e-11, 8.0872e-10, 6.9947e-07],\n",
      "        [1.3083e-04, 1.2892e-08, 6.4491e-01, 2.2223e-05, 2.2771e-09, 1.4294e-10,\n",
      "         2.9319e-01, 6.8309e-07, 1.0481e-08, 4.6142e-07, 1.2705e-07, 1.3686e-08,\n",
      "         4.7669e-02, 1.2671e-11, 1.0224e-09, 1.8075e-09, 1.3840e-10, 3.1256e-10,\n",
      "         4.7006e-04, 4.9835e-10, 1.2671e-11, 1.3604e-02, 1.3833e-11, 4.3351e-06,\n",
      "         1.5909e-07, 2.6027e-08, 5.7360e-10],\n",
      "        [5.2774e-14, 1.8418e-07, 3.2406e-04, 5.3837e-04, 1.9912e-05, 1.1844e-09,\n",
      "         8.6999e-05, 1.8458e-06, 2.4954e-09, 7.0101e-07, 1.4665e-01, 1.9838e-10,\n",
      "         5.8284e-11, 5.0643e-14, 7.3140e-08, 2.7215e-06, 1.5360e-01, 3.3060e-08,\n",
      "         2.6924e-03, 8.8874e-05, 3.9376e-04, 5.1487e-10, 6.3004e-01, 1.6241e-08,\n",
      "         6.5565e-02, 7.6284e-08, 1.4887e-06]])\n",
      "tensor([14, 25, 18,  5,  5,  0,  5,  4,  9,  5,  0])\n",
      "tensor(19.9968)\n",
      "tensor(19.9968)\n"
     ]
    },
    {
     "data": {
      "text/plain": [
       "(tensor([4.9787e-02, 1.4841e+02, 1.0000e+00, 5.4598e+01]),\n",
       " tensor([9.3576e-14, 4.0343e+02, 7.3891e+00,        inf]))"
      ]
     },
     "execution_count": 142,
     "metadata": {},
     "output_type": "execute_result"
    }
   ],
   "source": [
    "counts = logits.exp()\n",
    "probs = counts /counts.sum(1, keepdims=True)\n",
    "\n",
    "print(probs)\n",
    "print(Y)\n",
    "#print(probs[[0, 0], [0, 2]])\n",
    "probs[torch.arange(11), Y] # these values represent the [x][y] - x is ith input (x=i) y is the output label in the training set.\n",
    "#ideally we would want to reduce this gap.\n",
    "\n",
    "# probs represent that output values with probabilities.\n",
    "print(-probs[torch.arange(11), Y].log().mean()) # loss function\n",
    "\n",
    "entropy = F.cross_entropy(logits, Y)\n",
    "print(entropy) # the loss function that we have created using counts & probs and cross_entropy should be same\n",
    "#cross_entropuy provides more stable values and handles normalization\n",
    "# exp values for higher positivie values may not fit in float point.\n",
    "# to solve this pytorch normalizes them and substract the max value. addition or substraction of any value won't change the distribution.\n",
    "tt = torch.tensor([-3, 5, 0, 4])\n",
    "tt2 = torch. tensor([-30, 6, 2, 100])\n",
    "ttcounts = tt.exp()\n",
    "tt2counts = tt2.exp()\n",
    "ttcounts, tt2counts # you can see tt2counts value becomes inf."
   ]
  },
  {
   "cell_type": "code",
   "execution_count": 273,
   "id": "d6ee5112-3d74-41e0-abd6-4c621069f4d4",
   "metadata": {},
   "outputs": [
    {
     "name": "stdout",
     "output_type": "stream",
     "text": [
      "3481\n"
     ]
    }
   ],
   "source": [
    "# Given X dataset, build parameters and model.\n",
    "# C, W1, b1, W2, b2\n",
    "g = torch.Generator().manual_seed(2147483647)\n",
    "C = torch.randn((27, 2), generator=g)\n",
    "W1 = torch.randn((6, 100), generator=g)\n",
    "b1 = torch.randn(100, generator=g) # addition adds extra dimension padding.\n",
    "W2 = torch.randn((100, 27), generator=g)\n",
    "b2 = torch.randn(27, generator=g)\n",
    "parameters = [C, W1, b1, W2, b2]\n",
    "for p in parameters:\n",
    "    p.requires_grad= True\n",
    "print(sum([p.nelement() for p in parameters])) # total number of parameters."
   ]
  },
  {
   "cell_type": "code",
   "execution_count": 183,
   "id": "383cf22d-9e8a-427e-82e1-76843aced41b",
   "metadata": {},
   "outputs": [
    {
     "name": "stdout",
     "output_type": "stream",
     "text": [
      "2.830526113510132\n",
      "2.823349952697754\n",
      "2.8171072006225586\n",
      "2.8116259574890137\n",
      "2.806772470474243\n",
      "2.802438974380493\n",
      "2.798539161682129\n",
      "2.7950050830841064\n",
      "2.7917792797088623\n",
      "2.7888171672821045\n",
      "2.7888171672821045\n"
     ]
    }
   ],
   "source": [
    "x_input = Xtr\n",
    "y_input = Ytr\n",
    "for i in range(10): #run the gradient descent 10 times to fit the data.\n",
    "    # forward pass\n",
    "    emb = C[x_input]\n",
    "    h = torch.tanh(emb.view(-1, 6) @ W1 + b1)\n",
    "    logits = h @ W2 + b2\n",
    "    loss = F.cross_entropy(logits, y_input)\n",
    "    print(loss.item()) # printing loss value.\n",
    "\n",
    "    # backward pass\n",
    "    for p in parameters:\n",
    "        p.grad = None\n",
    "    loss.backward()\n",
    "    \n",
    "    # update based on gradient descent.\n",
    "    for p in parameters:\n",
    "        p.data += -0.1 * p.grad\n",
    "print(loss.item())"
   ]
  },
  {
   "cell_type": "code",
   "execution_count": 224,
   "id": "088b6651-bf8f-405f-8f5a-a5ee388b0283",
   "metadata": {},
   "outputs": [
    {
     "name": "stdout",
     "output_type": "stream",
     "text": [
      "2.434597969055176\n"
     ]
    }
   ],
   "source": [
    "x_input = Xtr\n",
    "y_input = Ytr\n",
    "for i in range(1000): #run the gradient descent 10 times to fit the data.\n",
    "    # forward pass\n",
    "    batchidx = torch.randint(0, x_input.shape[0], (32,)) # generate 32 input values from input randomly.\n",
    "    x_input_batch = x_input[batchidx]\n",
    "    y_input_batch = y_input[batchidx]\n",
    "    emb = C[x_input_batch]\n",
    "    h = torch.tanh(emb.view(-1, 6) @ W1 + b1)\n",
    "    logits = h @ W2 + b2\n",
    "    loss = F.cross_entropy(logits, y_input_batch)\n",
    "    #print(loss.item()) # printing loss value.\n",
    "\n",
    "    # backward pass\n",
    "    for p in parameters:\n",
    "        p.grad = None\n",
    "    loss.backward()\n",
    "    \n",
    "    # update based on gradient descent.\n",
    "    for p in parameters:\n",
    "        p.data += -0.1 * p.grad #learning rate. how do we determine this value?\n",
    "print(loss.item())"
   ]
  },
  {
   "cell_type": "code",
   "execution_count": 266,
   "id": "98838e5a-9152-4337-b205-01368b4f46f4",
   "metadata": {},
   "outputs": [],
   "source": [
    "lre = torch.linspace(-3, 0, 10000) # learning rate exponents.\n",
    "lrs = 10**lre #learning rate steps. starting from 0.001 to 1."
   ]
  },
  {
   "cell_type": "code",
   "execution_count": 280,
   "id": "a58ca76e-75ec-4fb5-ad78-3a52800b9323",
   "metadata": {},
   "outputs": [
    {
     "name": "stdout",
     "output_type": "stream",
     "text": [
      "2.251359462738037\n"
     ]
    }
   ],
   "source": [
    "x_input = Xtr\n",
    "y_input = Ytr\n",
    "\n",
    "lri = []\n",
    "lrei = []\n",
    "lossi = []\n",
    "stepi = []\n",
    "for i in range(10000): #run the gradient descent 10 times to fit the data.\n",
    "    # forward pass\n",
    "    batchidx = torch.randint(0, x_input.shape[0], (32,)) # generate 32 input values from input randomly.\n",
    "    x_input_batch = x_input[batchidx]\n",
    "    y_input_batch = y_input[batchidx]\n",
    "    emb = C[x_input_batch]\n",
    "    h = torch.tanh(emb.view(-1, 6) @ W1 + b1)\n",
    "    logits = h @ W2 + b2\n",
    "    loss = F.cross_entropy(logits, y_input_batch)\n",
    "    #print(loss.item()) # printing loss value.\n",
    "\n",
    "    # backward pass\n",
    "    for p in parameters:\n",
    "        p.grad = None\n",
    "    loss.backward()\n",
    "    \n",
    "    # update based on gradient descent.    \n",
    "    for p in parameters:\n",
    "        p.data += -lrs[i] * p.grad #learning rate. how do we determine this value?\n",
    "    lri.append(lrs[i])\n",
    "    lrei.append(lre[i])\n",
    "    lossi.append(loss.item())\n",
    "    stepi.append(i)\n",
    "\n",
    "print(loss.item())"
   ]
  },
  {
   "cell_type": "code",
   "execution_count": 281,
   "id": "dfd5df40-8ddf-4e46-baeb-cfb9c268b1a5",
   "metadata": {},
   "outputs": [
    {
     "data": {
      "text/plain": [
       "[<matplotlib.lines.Line2D at 0x30f32cce0>]"
      ]
     },
     "execution_count": 281,
     "metadata": {},
     "output_type": "execute_result"
    },
    {
     "data": {
      "image/png": "[encoded data removed]",
      "text/plain": [
       "<Figure size 640x480 with 1 Axes>"
      ]
     },
     "metadata": {},
     "output_type": "display_data"
    }
   ],
   "source": [
    "plt.plot(lrei, lossi)"
   ]
  },
  {
   "cell_type": "code",
   "execution_count": null,
   "id": "45c077f7-d43a-4b11-8026-670380f11ac8",
   "metadata": {},
   "outputs": [],
   "source": []
  },
  {
   "cell_type": "code",
   "execution_count": 282,
   "id": "d0dc1f35-d92d-4530-86f0-d1fcbd345e57",
   "metadata": {},
   "outputs": [
    {
     "name": "stdout",
     "output_type": "stream",
     "text": [
      "tensor(2.6628, grad_fn=<NllLossBackward0>) tensor(2.6667, grad_fn=<NllLossBackward0>)\n"
     ]
    }
   ],
   "source": [
    "# calculate loss\n",
    "def calculate_loss(X, Y):\n",
    "    emb = C[X]\n",
    "    h = torch.tanh(emb.view(-1, 6) @ W1 + b1)\n",
    "    logits = h @ W2 + b2\n",
    "    loss = F.cross_entropy(logits, Y)\n",
    "    return loss\n",
    "\n",
    "training_loss = calculate_loss(Xtr, Ytr)\n",
    "test_loss = calculate_loss(Xtest, Ytest)\n",
    "print(training_loss, test_loss)"
   ]
  },
  {
   "cell_type": "code",
   "execution_count": 283,
   "id": "e76e9e05-e5db-468b-aadc-01ad8953990a",
   "metadata": {},
   "outputs": [
    {
     "data": {
      "image/png": "[encoded data removed]",
      "text/plain": [
       "<Figure size 800x800 with 1 Axes>"
      ]
     },
     "metadata": {},
     "output_type": "display_data"
    }
   ],
   "source": [
    "#plot the figures\n",
    "plt.figure(figsize=(8,8))\n",
    "plt.scatter(C[:,0].data, C[:,1].data, s=200)\n",
    "for i in range(C.shape[0]):\n",
    "    plt.text(C[i,0].item(), C[i,1].item(), itoch[i], ha=\"center\", va=\"center\", color='white')\n",
    "plt.grid('minor')"
   ]
  },
  {
   "cell_type": "code",
   "execution_count": 298,
   "id": "30696119-c2e3-4bc6-9371-b095307c7383",
   "metadata": {},
   "outputs": [
    {
     "name": "stdout",
     "output_type": "stream",
     "text": [
      "jea\n",
      "maidalinia\n",
      "jaziayde\n",
      "jilia\n",
      "jna\n",
      "jra\n",
      "fak\n",
      "kavia\n",
      "jayiyabeltahryintas\n",
      "milia\n",
      "kavu\n",
      "jeya\n",
      "daria\n",
      "javmassde\n",
      "jakaviynyantlsn\n",
      "hilinnavta\n",
      "lys\n",
      "jasdra\n",
      "jayil\n",
      "jyaw\n"
     ]
    }
   ],
   "source": [
    "g = torch.Generator().manual_seed(2147483647)\n",
    "def predict_next(X, Y):\n",
    "    idx = 0;\n",
    "    out = []\n",
    "    context = [0] * block_size\n",
    "    # if you set the generator here, you will ge the samevalue again and again.\n",
    "    while True:\n",
    "        emb = C[torch.tensor([context])] #c[index]\n",
    "        h = torch.tanh(emb.view(-1, 6) @ W1 + b1)\n",
    "        logits = h @ W2 + b2\n",
    "        probs = F.softmax(logits, dim=1)\n",
    "        idx = torch.multinomial(probs, num_samples=1, generator=g).item()\n",
    "        context = context[1:] + [idx]\n",
    "        if idx == 0:\n",
    "            return ''.join(out)\n",
    "        out.append(itoch[idx])\n",
    "    return ''\n",
    "\n",
    "for i in range(20):\n",
    "    predicted_name = predict_next(Xtr, Ytr)\n",
    "    print(predicted_name)"
   ]
  }
 ],
 "metadata": {
  "kernelspec": {
   "display_name": "Python 3 (ipykernel)",
   "language": "python",
   "name": "python3"
  },
  "language_info": {
   "codemirror_mode": {
    "name": "ipython",
    "version": 3
   },
   "file_extension": ".py",
   "mimetype": "text/x-python",
   "name": "python",
   "nbconvert_exporter": "python",
   "pygments_lexer": "ipython3",
   "version": "3.12.7"
  }
 },
 "nbformat": 4,
 "nbformat_minor": 5
}
