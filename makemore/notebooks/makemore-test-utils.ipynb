{
 "cells": [
  {
   "cell_type": "code",
   "execution_count": 11,
   "id": "e9f6b93c-a17a-49dc-888a-769fb0a6f64e",
   "metadata": {},
   "outputs": [
    {
     "name": "stdout",
     "output_type": "stream",
     "text": [
      "tensor([[1., 1.],\n",
      "        [1., 1.],\n",
      "        [1., 1.]]) tensor([[2],\n",
      "        [3],\n",
      "        [4]])\n",
      "tensor([[2., 2.],\n",
      "        [3., 3.],\n",
      "        [4., 4.]])\n"
     ]
    }
   ],
   "source": [
    "# broad casting multiplication.\n",
    "import torch\n",
    "\n",
    "a = torch.ones((3, 2))\n",
    "b = torch.tensor([[2],[3],[4]])\n",
    "print(a, b)\n",
    "c = a * b\n",
    "c.shape\n",
    "print(c)"
   ]
  },
  {
   "cell_type": "code",
   "execution_count": null,
   "id": "1ed130d2-396f-4ed5-8ab4-066e496dc772",
   "metadata": {},
   "outputs": [],
   "source": [
    "# testing regex.\n",
    "import re\n",
    "label = f'w1'\n",
    "labelvalue = 2.34\n",
    "labelnewvalue = 3.14\n",
    "aaa = f'xyz<{label}>{labelvalue}</{label}>'\n",
    "p = re.compile(f'<{label}>.*</{label}>')\n",
    "m = p.sub(f'<{label}>{labelnewvalue}</{label}>', aaa)\n",
    "print(aaa, p, m)\n",
    "tt = re.sub('<.*?>', '', aaa)\n",
    "tt"
   ]
  }
 ],
 "metadata": {
  "kernelspec": {
   "display_name": "Python 3 (ipykernel)",
   "language": "python",
   "name": "python3"
  },
  "language_info": {
   "codemirror_mode": {
    "name": "ipython",
    "version": 3
   },
   "file_extension": ".py",
   "mimetype": "text/x-python",
   "name": "python",
   "nbconvert_exporter": "python",
   "pygments_lexer": "ipython3",
   "version": "3.12.7"
  }
 },
 "nbformat": 4,
 "nbformat_minor": 5
}
